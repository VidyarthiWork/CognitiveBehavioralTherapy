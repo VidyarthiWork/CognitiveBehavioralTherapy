{
  "nbformat": 4,
  "nbformat_minor": 0,
  "metadata": {
    "colab": {
      "name": "Sentiment Analysis.ipynb",
      "provenance": []
    },
    "kernelspec": {
      "name": "python3",
      "display_name": "Python 3"
    }
  },
  "cells": [
    {
      "cell_type": "markdown",
      "metadata": {
        "id": "ivUkOaBPEQYr"
      },
      "source": [
        "# **Sentiment Analysis**\n",
        "\n",
        "*   Processes any textual message and recognizes the emotion embedded in it.\n",
        "*   Compatible with 5 different emotion categories as Happy, Angry, Sad, Surprise and Fear.\n",
        "\n"
      ]
    },
    {
      "cell_type": "markdown",
      "metadata": {
        "id": "7qvXHaLbG7al"
      },
      "source": [
        "## 1. Install the package"
      ]
    },
    {
      "cell_type": "code",
      "metadata": {
        "id": "nxET8yW3HIvL",
        "outputId": "b13ad151-b0d3-4794-91cd-fd2298dfd7fd",
        "colab": {
          "base_uri": "https://localhost:8080/"
        }
      },
      "source": [
        "pip install text2emotion"
      ],
      "execution_count": null,
      "outputs": [
        {
          "output_type": "stream",
          "name": "stdout",
          "text": [
            "Requirement already satisfied: text2emotion in /usr/local/lib/python3.7/dist-packages (0.0.5)\n",
            "Requirement already satisfied: emoji>=0.6.0 in /usr/local/lib/python3.7/dist-packages (from text2emotion) (1.6.3)\n",
            "Requirement already satisfied: nltk in /usr/local/lib/python3.7/dist-packages (from text2emotion) (3.2.5)\n",
            "Requirement already satisfied: six in /usr/local/lib/python3.7/dist-packages (from nltk->text2emotion) (1.15.0)\n"
          ]
        }
      ]
    },
    {
      "cell_type": "code",
      "metadata": {
        "id": "D3QHLMdnbMCX"
      },
      "source": [
        "import text2emotion as te"
      ],
      "execution_count": null,
      "outputs": []
    },
    {
      "cell_type": "markdown",
      "metadata": {
        "id": "DgcGUoLpO0aw"
      },
      "source": [
        "## 2. Analyzing emotion in user speech"
      ]
    },
    {
      "cell_type": "code",
      "metadata": {
        "id": "McuobJsvH2EF"
      },
      "source": [
        "text = \"I was asked to sign a third party contract a week out from stay. If it wasn't an 8 person group that took a lot of wrangling I would have cancelled the booking straight away. Bathrooms - there are no stand alone bathrooms. Please consider this - you have to clear out the main bedroom to use that bathroom. Other option is you walk through a different bedroom to get to its en-suite. Signs all over the apartment - there are signs everywhere - some helpful - some telling you rules. Perhaps some people like this but It negatively affected our enjoyment of the accommodation. Stairs - lots of them - some had slightly bending wood which caused a minor injury.\""
      ],
      "execution_count": null,
      "outputs": []
    },
    {
      "cell_type": "code",
      "metadata": {
        "id": "q9n9nGi1H0WN",
        "outputId": "ae350805-1b42-4274-9e6c-b0ecd7dfb64b",
        "colab": {
          "base_uri": "https://localhost:8080/"
        }
      },
      "source": [
        "te.get_emotion(text)"
      ],
      "execution_count": null,
      "outputs": [
        {
          "output_type": "execute_result",
          "data": {
            "text/plain": [
              "{'Angry': 0.12, 'Fear': 0.42, 'Happy': 0.04, 'Sad': 0.33, 'Surprise': 0.08}"
            ]
          },
          "metadata": {},
          "execution_count": 11
        }
      ]
    },
    {
      "cell_type": "markdown",
      "metadata": {
        "id": "uyjyMGEcI44c"
      },
      "source": [
        "Output in terms of dictionary where we have emotion categories along with the respective score."
      ]
    },
    {
      "cell_type": "markdown",
      "metadata": {
        "id": "Y2hpOj6hM8cz"
      },
      "source": [
        "Now, if we think about the scores of the relative emotion categories then **Fear** score is 0.45 & **Sad** score is 0.32. So on overall analysis we can say that the statement we took as input has the Fear & Sad tone."
      ]
    },
    {
      "cell_type": "code",
      "metadata": {
        "id": "UR2s0lo3Iuzq"
      },
      "source": [
        "text = \"The times are difficult! Our sales have been disappointing for the past three quarters for our data analytics product suite. We have a competitive data analytics product suite in the industry. However, we are not doing a good job at selling it, and this is really frustrating.\""
      ],
      "execution_count": null,
      "outputs": []
    },
    {
      "cell_type": "code",
      "metadata": {
        "id": "EsVJ1ulWS5SF",
        "outputId": "198fe06b-3472-4377-dad3-81f7269284f1",
        "colab": {
          "base_uri": "https://localhost:8080/",
          "height": 35
        }
      },
      "source": [
        "te.get_emotion(text)"
      ],
      "execution_count": null,
      "outputs": [
        {
          "output_type": "execute_result",
          "data": {
            "text/plain": [
              "{'Angry': 0.14, 'Fear': 0.14, 'Happy': 0.14, 'Sad': 0.29, 'Surprise': 0.29}"
            ]
          },
          "metadata": {
            "tags": []
          },
          "execution_count": 6
        }
      ]
    },
    {
      "cell_type": "markdown",
      "metadata": {
        "id": "IZ4o-w7LO3tG"
      },
      "source": [
        "Short messages:"
      ]
    },
    {
      "cell_type": "code",
      "metadata": {
        "id": "9gJfoXOzPAUs",
        "outputId": "11b45fee-3697-4d32-f3e7-028567680d14",
        "colab": {
          "base_uri": "https://localhost:8080/",
          "height": 35
        }
      },
      "source": [
        "text = \"Good n8\"\n",
        "te.get_emotion(text)"
      ],
      "execution_count": null,
      "outputs": [
        {
          "output_type": "execute_result",
          "data": {
            "text/plain": [
              "{'Angry': 0.0, 'Fear': 0.0, 'Happy': 1.0, 'Sad': 0.0, 'Surprise': 0.0}"
            ]
          },
          "metadata": {
            "tags": []
          },
          "execution_count": 7
        }
      ]
    },
    {
      "cell_type": "code",
      "metadata": {
        "id": "4ILgh6jhPMUK",
        "outputId": "2c6da01b-602e-45b7-8614-b3ca6819d7a7",
        "colab": {
          "base_uri": "https://localhost:8080/",
          "height": 35
        }
      },
      "source": [
        "text = \"That night was so horrible.\"\n",
        "te.get_emotion(text)"
      ],
      "execution_count": null,
      "outputs": [
        {
          "output_type": "execute_result",
          "data": {
            "text/plain": [
              "{'Angry': 0.0, 'Fear': 1.0, 'Happy': 0.0, 'Sad': 0.0, 'Surprise': 0.0}"
            ]
          },
          "metadata": {
            "tags": []
          },
          "execution_count": 8
        }
      ]
    },
    {
      "cell_type": "code",
      "metadata": {
        "id": "dlzlYbQuPVY2",
        "outputId": "cb246bd9-8b0a-431e-b6b9-169317554217",
        "colab": {
          "base_uri": "https://localhost:8080/",
          "height": 35
        }
      },
      "source": [
        "text = \"I just love this surprise.\"\n",
        "te.get_emotion(text)"
      ],
      "execution_count": null,
      "outputs": [
        {
          "output_type": "execute_result",
          "data": {
            "text/plain": [
              "{'Angry': 0.0, 'Fear': 0.0, 'Happy': 0.5, 'Sad': 0.0, 'Surprise': 0.5}"
            ]
          },
          "metadata": {
            "tags": []
          },
          "execution_count": 9
        }
      ]
    },
    {
      "cell_type": "code",
      "metadata": {
        "id": "CNSSyJTAPePS",
        "outputId": "b98d4644-5b96-466f-a69a-457a137fe4f7",
        "colab": {
          "base_uri": "https://localhost:8080/",
          "height": 35
        }
      },
      "source": [
        "text = \"I can't understand what to do now.\"\n",
        "te.get_emotion(text)"
      ],
      "execution_count": null,
      "outputs": [
        {
          "output_type": "execute_result",
          "data": {
            "text/plain": [
              "{'Angry': 0.0, 'Fear': 0.0, 'Happy': 0.0, 'Sad': 1.0, 'Surprise': 0.0}"
            ]
          },
          "metadata": {
            "tags": []
          },
          "execution_count": 10
        }
      ]
    },
    {
      "cell_type": "markdown",
      "metadata": {
        "id": "UCwPZ34BRY0_"
      },
      "source": [
        "Statements which contain emojis:\n"
      ]
    },
    {
      "cell_type": "code",
      "metadata": {
        "id": "dnTtCGl_QVrQ",
        "outputId": "4f935091-4c24-4b66-b930-88ae51c8d0a5",
        "colab": {
          "base_uri": "https://localhost:8080/"
        }
      },
      "source": [
        "text = \"you got this man 😆😂\"\n",
        "te.get_emotion(text)"
      ],
      "execution_count": null,
      "outputs": [
        {
          "output_type": "execute_result",
          "data": {
            "text/plain": [
              "{'Angry': 0, 'Fear': 0, 'Happy': 0, 'Sad': 0, 'Surprise': 0}"
            ]
          },
          "metadata": {},
          "execution_count": 12
        }
      ]
    },
    {
      "cell_type": "code",
      "metadata": {
        "id": "K54DBtW3TruC",
        "outputId": "2e82725b-e05d-434e-dcad-36195dd2d38f",
        "colab": {
          "base_uri": "https://localhost:8080/"
        }
      },
      "source": [
        "text = \"I am extremely interested in software.\"\n",
        "te.get_emotion(text)"
      ],
      "execution_count": null,
      "outputs": [
        {
          "output_type": "execute_result",
          "data": {
            "text/plain": [
              "{'Angry': 0.0, 'Fear': 0.0, 'Happy': 1.0, 'Sad': 0.0, 'Surprise': 0.0}"
            ]
          },
          "metadata": {},
          "execution_count": 13
        }
      ]
    }
  ]
}